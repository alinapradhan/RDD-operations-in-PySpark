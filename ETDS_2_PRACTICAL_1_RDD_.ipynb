{
  "nbformat": 4,
  "nbformat_minor": 0,
  "metadata": {
    "colab": {
      "provenance": [],
      "authorship_tag": "ABX9TyPrPPzbCSL3YAqecoOYCoG3",
      "include_colab_link": true
    },
    "kernelspec": {
      "name": "python3",
      "display_name": "Python 3"
    },
    "language_info": {
      "name": "python"
    }
  },
  "cells": [
    {
      "cell_type": "markdown",
      "metadata": {
        "id": "view-in-github",
        "colab_type": "text"
      },
      "source": [
        "<a href=\"https://colab.research.google.com/github/alinapradhan/ETDS-RDD-/blob/main/ETDS_2_PRACTICAL_1_RDD_.ipynb\" target=\"_parent\"><img src=\"https://colab.research.google.com/assets/colab-badge.svg\" alt=\"Open In Colab\"/></a>"
      ]
    },
    {
      "cell_type": "code",
      "execution_count": null,
      "metadata": {
        "id": "-KaJXq9tTrTq"
      },
      "outputs": [],
      "source": [
        "## Creating an RDD from a text dataset , performing transformations to count the occurences of each word, and actions to collect and print the results"
      ]
    },
    {
      "cell_type": "code",
      "source": [
        "from pyspark import SparkConf, SparkContext\n",
        "import collections\n"
      ],
      "metadata": {
        "id": "2fxh-ax1T6lT"
      },
      "execution_count": 1,
      "outputs": []
    },
    {
      "cell_type": "code",
      "source": [
        "\n",
        "conf = SparkConf().setMaster(\"local\").setAppName(\"WordCount\")\n",
        "conf"
      ],
      "metadata": {
        "colab": {
          "base_uri": "https://localhost:8080/"
        },
        "id": "4cJwvbdHT6hB",
        "outputId": "b3b80d4d-da82-4c96-ab68-e188a13a018a"
      },
      "execution_count": 2,
      "outputs": [
        {
          "output_type": "execute_result",
          "data": {
            "text/plain": [
              "<pyspark.conf.SparkConf at 0x7f62443303d0>"
            ]
          },
          "metadata": {},
          "execution_count": 2
        }
      ]
    },
    {
      "cell_type": "code",
      "source": [
        "sc = SparkContext(conf = conf)\n",
        "sc"
      ],
      "metadata": {
        "colab": {
          "base_uri": "https://localhost:8080/",
          "height": 196
        },
        "id": "IxbQ3pa1T6fi",
        "outputId": "c1ba8d70-f84c-4dd4-afcd-dd5b24fddccf"
      },
      "execution_count": 3,
      "outputs": [
        {
          "output_type": "execute_result",
          "data": {
            "text/plain": [
              "<SparkContext master=local appName=WordCount>"
            ],
            "text/html": [
              "\n",
              "        <div>\n",
              "            <p><b>SparkContext</b></p>\n",
              "\n",
              "            <p><a href=\"http://18b1e78a550d:4040\">Spark UI</a></p>\n",
              "\n",
              "            <dl>\n",
              "              <dt>Version</dt>\n",
              "                <dd><code>v3.5.1</code></dd>\n",
              "              <dt>Master</dt>\n",
              "                <dd><code>local</code></dd>\n",
              "              <dt>AppName</dt>\n",
              "                <dd><code>WordCount</code></dd>\n",
              "            </dl>\n",
              "        </div>\n",
              "        "
            ]
          },
          "metadata": {},
          "execution_count": 3
        }
      ]
    },
    {
      "cell_type": "code",
      "source": [
        "data = [\"hello world\", \"goodbye world\" , \"Hello again\",\"hello charles\", \"hello carlos\",\"hello hemilton\",\"As the sun dipped below the blood-stained horizon of Kurukshetra, Arjuna stood still, his Gandiva bow slack in his hand. The cries of fallen warriors echoed in the wind, and the scent of war lingered in the dust. Krishna, ever calm amidst the chaos, placed a hand on Arjuna’s shoulder.  he said softly, his eyes reflecting both sorrow and wisdom.  a warrior must listen to the callute, offered silent prayers for both the living and the dead. The war raged on—not merely for a throne, but for the soul of dharma itself.\"]\n",
        "rdd = sc.parallelize(data)"
      ],
      "metadata": {
        "id": "W6K04dq4T6cR"
      },
      "execution_count": 4,
      "outputs": []
    },
    {
      "cell_type": "code",
      "source": [
        "##transformation : split each sentence into words\n",
        "words_rdd = rdd.flatMap(lambda x: x.split(\" \"))"
      ],
      "metadata": {
        "id": "-v93wdvST6aO"
      },
      "execution_count": 5,
      "outputs": []
    },
    {
      "cell_type": "code",
      "source": [
        "## transformation : map each word to a tuple(word 1)\n",
        "word_pairs_rdd = words_rdd.map(lambda x: (x,1))"
      ],
      "metadata": {
        "id": "m-M-MEYcUKoy"
      },
      "execution_count": 6,
      "outputs": []
    },
    {
      "cell_type": "code",
      "source": [
        "## transformation : reduce by the key to count ocurrences\n",
        "words_count_rdd = word_pairs_rdd.reduceByKey(lambda a,b: a+b)"
      ],
      "metadata": {
        "id": "M2dlIxiAUOGJ"
      },
      "execution_count": 7,
      "outputs": []
    },
    {
      "cell_type": "code",
      "source": [
        "## Action : collect the results\n",
        "words_counts = words_count_rdd.collect()"
      ],
      "metadata": {
        "id": "WsLW76pIUOBe"
      },
      "execution_count": 8,
      "outputs": []
    },
    {
      "cell_type": "code",
      "source": [
        "## print the results\n",
        "for word, count in words_counts:\n",
        "  print(f\"{word}: {count}\")"
      ],
      "metadata": {
        "colab": {
          "base_uri": "https://localhost:8080/"
        },
        "id": "kWR3Qy5aUOAG",
        "outputId": "4d28c52a-f5b7-469e-cf5c-7f31dfec0797"
      },
      "execution_count": 9,
      "outputs": [
        {
          "output_type": "stream",
          "name": "stdout",
          "text": [
            "hello: 4\n",
            "world: 2\n",
            "goodbye: 1\n",
            "Hello: 1\n",
            "again: 1\n",
            "charles: 1\n",
            "carlos: 1\n",
            "hemilton: 1\n",
            "As: 1\n",
            "the: 10\n",
            "sun: 1\n",
            "dipped: 1\n",
            "below: 1\n",
            "blood-stained: 1\n",
            "horizon: 1\n",
            "of: 4\n",
            "Kurukshetra,: 1\n",
            "Arjuna: 1\n",
            "stood: 1\n",
            "still,: 1\n",
            "his: 3\n",
            "Gandiva: 1\n",
            "bow: 1\n",
            "slack: 1\n",
            "in: 3\n",
            "hand.: 1\n",
            "The: 2\n",
            "cries: 1\n",
            "fallen: 1\n",
            "warriors: 1\n",
            "echoed: 1\n",
            "wind,: 1\n",
            "and: 3\n",
            "scent: 1\n",
            "war: 2\n",
            "lingered: 1\n",
            "dust.: 1\n",
            "Krishna,: 1\n",
            "ever: 1\n",
            "calm: 1\n",
            "amidst: 1\n",
            "chaos,: 1\n",
            "placed: 1\n",
            "a: 3\n",
            "hand: 1\n",
            "on: 1\n",
            "Arjuna’s: 1\n",
            "shoulder.: 1\n",
            ": 2\n",
            "he: 1\n",
            "said: 1\n",
            "softly,: 1\n",
            "eyes: 1\n",
            "reflecting: 1\n",
            "both: 2\n",
            "sorrow: 1\n",
            "wisdom.: 1\n",
            "warrior: 1\n",
            "must: 1\n",
            "listen: 1\n",
            "to: 1\n",
            "callute,: 1\n",
            "offered: 1\n",
            "silent: 1\n",
            "prayers: 1\n",
            "for: 3\n",
            "living: 1\n",
            "dead.: 1\n",
            "raged: 1\n",
            "on—not: 1\n",
            "merely: 1\n",
            "throne,: 1\n",
            "but: 1\n",
            "soul: 1\n",
            "dharma: 1\n",
            "itself.: 1\n"
          ]
        }
      ]
    },
    {
      "cell_type": "code",
      "source": [
        "## stop the spark context\n",
        "sc.stop()"
      ],
      "metadata": {
        "id": "2rwNTdFAUWzH"
      },
      "execution_count": 10,
      "outputs": []
    },
    {
      "cell_type": "code",
      "source": [],
      "metadata": {
        "id": "Uj695oiBUZH2"
      },
      "execution_count": null,
      "outputs": []
    }
  ]
}